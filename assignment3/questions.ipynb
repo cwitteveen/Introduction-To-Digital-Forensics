{
 "cells": [
  {
   "cell_type": "markdown",
   "metadata": {},
   "source": [
    "## Questions\n",
    "\n",
    "<b>1. How many records are in the entire trace?</b>\n",
    "\n",
    "\n",
    "<b>2. What is the duration of the entire trace?</b>\n",
    "\n",
    "\n",
    "<b>3. Add print-screens of 3 examples of packets that are NOT part of the attack.  \n",
    "    Explain what are those packets.</b>\n",
    "\n",
    "\n",
    "<b>4. What are the characteristics of the attack (aka fingerprint)?  \n",
    "    Remember: the fingerprint are the characteristics that most repeats targeting a single destination IP. Traffic FROM the victim to the IP addresses in the network trace are NOT part of the attack. Tip: isolate 1 source and 1 destination IP and see if the same pattern applies to the other source IP addresses.</b>\n",
    "\n",
    "\n",
    "<b>5. How a Wireshark filter of the attack looks like?</b>\n",
    "\n",
    "*ATTENTION: from here, all the following questions are related to the attack traffic.\n",
    "\n",
    "\n",
    "<b>6. Which is the target (destination) IP of the attack?</b>\n",
    "\n",
    "\n",
    "<b>7. How many records are part of the attack?</b>\n",
    "\n",
    "\n",
    "<b>8. How many unique (source) IP addresses performed the attack?</b>\n",
    "\n",
    "\n",
    "<b>9. Which top 3 source IP addresses sent more packets in the attack?</b>\n",
    "\n",
    "\n",
    "<b>10. What is the distribution of vendors related to the source IP addresses involved in the attack?  Tip: use MAC address to Vendor. Ask Google.</b>\n",
    "\n",
    "\n",
    "<b>11. What is/are the source port(s) involved in the attack?</b>\n",
    "\n",
    "\n",
    "<b>12. How much was the data rate peak of the attack [Mbits/second]?</b>\n",
    "\n",
    "\n",
    "<b>13. What is the distribution/frequency of TCP flags involved in the attack?</b>\n",
    "\n",
    "\n",
    "<b>14. What is the distribution/frequency of packet length (\"total length\")?</b>"
   ]
  }
 ],
 "metadata": {
  "kernelspec": {
   "display_name": "Python 3",
   "language": "python",
   "name": "python3"
  },
  "language_info": {
   "codemirror_mode": {
    "name": "ipython",
    "version": 3
   },
   "file_extension": ".py",
   "mimetype": "text/x-python",
   "name": "python",
   "nbconvert_exporter": "python",
   "pygments_lexer": "ipython3",
   "version": "3.6.3"
  }
 },
 "nbformat": 4,
 "nbformat_minor": 2
}
