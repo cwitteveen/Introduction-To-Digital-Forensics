{
 "cells": [
  {
   "cell_type": "markdown",
   "metadata": {},
   "source": [
    "## Questions\n",
    "\n",
    "1. <b>How many records are in the entire trace?</b>\n",
    "\n",
    "\n",
    "2. <b>What is the duration of the entire trace?</b>\n",
    "\n",
    "\n",
    "3. <b>Add print-screens of 3 examples of packets that are NOT part of the attack.  \n",
    "    Explain what are those packets.</b>\n",
    "\n",
    "\n",
    "4. <b>What are the characteristics of the attack (aka fingerprint)?  \n",
    "    Remember: the fingerprint are the characteristics that most repeats targeting a single destination IP. Traffic FROM the victim to the IP addresses in the network trace are NOT part of the attack. Tip: isolate 1 source and 1 destination IP and see if the same pattern applies to the other source IP addresses.</b>\n",
    "\n",
    "\n",
    "5. <b>How a Wireshark filter of the attack looks like?</b>\n",
    "\n",
    "*ATTENTION: from here, all the following questions are related to the attack traffic.\n",
    "\n",
    "\n",
    "6. <b>Which is the target (destination) IP of the attack?</b>\n",
    "\n",
    "\n",
    "7. <b>How many records are part of the attack?</b>\n",
    "\n",
    "\n",
    "8. <b>How many unique (source) IP addresses performed the attack?</b>\n",
    "\n",
    "\n",
    "9. <b>Which top 3 source IP addresses sent more packets in the attack?</b>\n",
    "\n",
    "\n",
    "10. <b>What is the distribution of vendors related to the source IP addresses involved in the attack?  Tip: use MAC address to Vendor. Ask Google.</b>\n",
    "\n",
    "\n",
    "11. <b>What is/are the source port(s) involved in the attack?</b>\n",
    "\n",
    "\n",
    "12. <b>How much was the data rate peak of the attack [Mbits/second]?</b>\n",
    "\n",
    "\n",
    "13. <b>What is the distribution/frequency of TCP flags involved in the attack?</b>\n",
    "\n",
    "\n",
    "14. <b>What is the distribution/frequency of packet length (\"total length\")?</b>"
   ]
  }
 ],
 "metadata": {
  "kernelspec": {
   "display_name": "Python 3",
   "language": "python",
   "name": "python3"
  },
  "language_info": {
   "codemirror_mode": {
    "name": "ipython",
    "version": 3
   },
   "file_extension": ".py",
   "mimetype": "text/x-python",
   "name": "python",
   "nbconvert_exporter": "python",
   "pygments_lexer": "ipython3",
   "version": "3.6.3"
  }
 },
 "nbformat": 4,
 "nbformat_minor": 2
}
