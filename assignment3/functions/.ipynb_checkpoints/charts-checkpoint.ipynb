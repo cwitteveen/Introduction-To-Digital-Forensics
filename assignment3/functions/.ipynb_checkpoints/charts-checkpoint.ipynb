{
 "cells": [
  {
   "cell_type": "code",
   "execution_count": 10,
   "metadata": {},
   "outputs": [],
   "source": [
    "import pandas as pd\n",
    "import numpy as np\n",
    "import matplotlib.pyplot as plt\n",
    "\n",
    "%matplotlib inline"
   ]
  },
  {
   "cell_type": "code",
   "execution_count": 11,
   "metadata": {},
   "outputs": [],
   "source": [
    "def pie_chart(data, labels, title):\n",
    "    fig1, ax1 = plt.subplots()\n",
    "    ax1.pie(data, labels=labels, autopct='%1.1f%%',\n",
    "            shadow=False, startangle=90)\n",
    "\n",
    "    #draw white circle to create donut effect\n",
    "    centre_circle = plt.Circle((0,0),0.80,fc='white')\n",
    "    fig1.gca().add_artist(centre_circle)\n",
    "\n",
    "    # Equal aspect ratio ensures that pie is drawn as a circle\n",
    "    ax1.axis('equal')\n",
    "    plt.tight_layout()  \n",
    "    plt.title(title)\n",
    "    plt.show()"
   ]
  },
  {
   "cell_type": "code",
   "execution_count": 12,
   "metadata": {},
   "outputs": [],
   "source": [
    "def bar_chart(data, labels, title):\n",
    "    y_pos = np.arange(len(labels))\n",
    "    plt.bar(y_pos, data, align='center')\n",
    "    plt.xticks(y_pos, labels, rotation='vertical')\n",
    "    plt.ylabel('Number of Packets')\n",
    "    plt.title(title)\n",
    "    plt.show()"
   ]
  },
  {
   "cell_type": "code",
   "execution_count": null,
   "metadata": {},
   "outputs": [],
   "source": []
  }
 ],
 "metadata": {
  "kernelspec": {
   "display_name": "Python 3",
   "language": "python",
   "name": "python3"
  },
  "language_info": {
   "codemirror_mode": {
    "name": "ipython",
    "version": 3
   },
   "file_extension": ".py",
   "mimetype": "text/x-python",
   "name": "python",
   "nbconvert_exporter": "python",
   "pygments_lexer": "ipython3",
   "version": "3.6.3"
  }
 },
 "nbformat": 4,
 "nbformat_minor": 2
}
